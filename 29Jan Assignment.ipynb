{
 "cells": [
  {
   "cell_type": "code",
   "execution_count": 1,
   "id": "7c6ee7ca-d81d-4c55-b330-88407f5b6e54",
   "metadata": {},
   "outputs": [],
   "source": [
    "#1. Who developed Python Programming Language?\n"
   ]
  },
  {
   "cell_type": "code",
   "execution_count": 2,
   "id": "477cc495-b253-454b-bfe7-fac52affcac1",
   "metadata": {},
   "outputs": [],
   "source": [
    "#Guido Van Rossum"
   ]
  },
  {
   "cell_type": "code",
   "execution_count": 3,
   "id": "3a223778-0b00-40a4-8cbf-23c9799d08c2",
   "metadata": {},
   "outputs": [],
   "source": [
    "#2. Which type of programming does Python support?"
   ]
  },
  {
   "cell_type": "code",
   "execution_count": 4,
   "id": "483df181-0285-4422-bd5c-ff9633c0ca87",
   "metadata": {},
   "outputs": [],
   "source": [
    "#Object-oriented programming, \n",
    "#Structured programming,\n",
    "#Functional programming"
   ]
  },
  {
   "cell_type": "code",
   "execution_count": 5,
   "id": "9003cf5d-1ca3-4758-9693-0116c3e0d507",
   "metadata": {},
   "outputs": [],
   "source": [
    "#3. Is Python case sensitive when dealing with identifiers?"
   ]
  },
  {
   "cell_type": "code",
   "execution_count": 6,
   "id": "6e0acd12-f7c1-4e73-a041-607f2d7d9f7f",
   "metadata": {},
   "outputs": [],
   "source": [
    "#Yes!"
   ]
  },
  {
   "cell_type": "code",
   "execution_count": 7,
   "id": "7cfc3853-9a1b-4f05-910d-d1713cd7fe40",
   "metadata": {},
   "outputs": [],
   "source": [
    "#4. What is the correct extension of Python file?"
   ]
  },
  {
   "cell_type": "code",
   "execution_count": 8,
   "id": "6f545da2-c24b-4590-9422-edf9a5326f96",
   "metadata": {},
   "outputs": [],
   "source": [
    "#.py"
   ]
  },
  {
   "cell_type": "code",
   "execution_count": 10,
   "id": "f9f2c9fe-8059-486a-be32-c8ebd5956dda",
   "metadata": {},
   "outputs": [],
   "source": [
    "#5. Is Python code compiled or interpreted?"
   ]
  },
  {
   "cell_type": "code",
   "execution_count": 11,
   "id": "9c22230b-868c-4177-bd58-241f2a5d2229",
   "metadata": {},
   "outputs": [],
   "source": [
    "#Interpreted"
   ]
  },
  {
   "cell_type": "code",
   "execution_count": 12,
   "id": "90b5e33a-9366-4972-842f-d4e80c0af547",
   "metadata": {},
   "outputs": [],
   "source": [
    "#6.Name a few blocks of code used to define in Python Language?"
   ]
  },
  {
   "cell_type": "code",
   "execution_count": 13,
   "id": "70d218d9-2308-4e74-9585-f2c71c0cab96",
   "metadata": {},
   "outputs": [],
   "source": [
    "#Indentation "
   ]
  },
  {
   "cell_type": "code",
   "execution_count": 14,
   "id": "422a46bc-249b-477a-96d8-1489018488cb",
   "metadata": {},
   "outputs": [],
   "source": [
    "#7. State a character used to give single-line comments in Python?"
   ]
  },
  {
   "cell_type": "code",
   "execution_count": 16,
   "id": "a9877dc8-2cde-4b9e-bf0d-964da5bce4f6",
   "metadata": {},
   "outputs": [],
   "source": [
    "##"
   ]
  },
  {
   "cell_type": "code",
   "execution_count": 17,
   "id": "b088b8f3-6241-4400-9f3a-385c0270cbfe",
   "metadata": {},
   "outputs": [],
   "source": [
    "#8. Mention functions which can help us to find the version of python that we are currently working on?"
   ]
  },
  {
   "cell_type": "code",
   "execution_count": null,
   "id": "3a738dad-defe-4da4-8238-29f59c574988",
   "metadata": {},
   "outputs": [],
   "source": [
    "#sys.version"
   ]
  },
  {
   "cell_type": "code",
   "execution_count": 21,
   "id": "e8bbd449-183d-4c5a-bf77-8c8055d4b9cd",
   "metadata": {},
   "outputs": [],
   "source": [
    "#9. Python supports the creation of anonymous functions at run time, using a construct called"
   ]
  },
  {
   "cell_type": "code",
   "execution_count": null,
   "id": "4f3250b3-2f45-45e5-aa8e-d35d47bd4b4b",
   "metadata": {},
   "outputs": [],
   "source": [
    "#lambda"
   ]
  },
  {
   "cell_type": "code",
   "execution_count": null,
   "id": "98511bf2-8bab-4f2f-816e-26bb23f04be7",
   "metadata": {},
   "outputs": [],
   "source": [
    "#10. What does pip stand for?"
   ]
  },
  {
   "cell_type": "code",
   "execution_count": null,
   "id": "e35435d8-8c0f-499f-9220-6fbbbe9b3a91",
   "metadata": {},
   "outputs": [],
   "source": [
    "#Preferred Installer program"
   ]
  },
  {
   "cell_type": "code",
   "execution_count": null,
   "id": "ffd7527c-205d-4630-a34b-c7f61125f263",
   "metadata": {},
   "outputs": [],
   "source": [
    "#11. Mention a few built-in functions in Python?"
   ]
  },
  {
   "cell_type": "code",
   "execution_count": null,
   "id": "5f4c59b0-ac00-4fe8-8271-080df446c8ab",
   "metadata": {},
   "outputs": [],
   "source": [
    "#print(), int,(), float(), str(), input(), len(), type(), dict(), list(), set(), tuple(), bool() and many more."
   ]
  },
  {
   "cell_type": "code",
   "execution_count": null,
   "id": "95b19049-b0ae-4e12-97dd-2b4451558a19",
   "metadata": {},
   "outputs": [],
   "source": [
    "#12. What is the maximum possible length of an identifier in Python?"
   ]
  },
  {
   "cell_type": "code",
   "execution_count": null,
   "id": "70da425f-1139-46b5-86c9-b4e4700c97ad",
   "metadata": {},
   "outputs": [],
   "source": [
    "#79 characters"
   ]
  },
  {
   "cell_type": "code",
   "execution_count": null,
   "id": "a11ddcbb-cf72-4388-84c5-d983c576127d",
   "metadata": {},
   "outputs": [],
   "source": [
    "#13. What are the benefits of using Python?"
   ]
  },
  {
   "cell_type": "code",
   "execution_count": null,
   "id": "0a867334-e21e-4621-b6dd-3b0df6364fa5",
   "metadata": {},
   "outputs": [],
   "source": [
    "#Wide range of use \n",
    "#Easy to use, i.e. Write less, do more \n",
    "#Wide range of libraries \n",
    "#Portability\n",
    "#Strong peer support "
   ]
  },
  {
   "cell_type": "code",
   "execution_count": null,
   "id": "a115cef4-9f3e-45e2-a226-28141392310d",
   "metadata": {},
   "outputs": [],
   "source": [
    "#14. How is memory managed in Python?"
   ]
  },
  {
   "cell_type": "code",
   "execution_count": null,
   "id": "8c33bda7-e44e-4644-8f33-3490bad78825",
   "metadata": {},
   "outputs": [],
   "source": [
    "#By python private heap space \n",
    "#Objects and data structures are located in a private heap space \n",
    "#Programmers doesn't have access to private heap \n",
    "#Python memory manager is responsible for the allocation of Python private heap space\n",
    "#Memory for Python heap space is made available by Python's in-built garbage collector \n",
    "#It recycles and frees up all the unused memory"
   ]
  },
  {
   "cell_type": "code",
   "execution_count": null,
   "id": "cd704463-9bef-4f40-8d3e-d2a5f9de37fc",
   "metadata": {},
   "outputs": [],
   "source": [
    "#15. How to install Python on Windows and set path variables?"
   ]
  },
  {
   "cell_type": "code",
   "execution_count": null,
   "id": "e2a85460-9b10-44a9-ac4f-8f1c3b7ac88a",
   "metadata": {},
   "outputs": [],
   "source": [
    "##To install PYTHON\n",
    "#Open the official Python website in your web browser. \n",
    "#Navigate to the Downloads tab for Windows.\n",
    "#Choose the latest Python 3 release.\n",
    "#Click on the link to download Windows x86 executable if using a 32-bit installer \n",
    "#and 64-bit system, then download Windows x86-64 executable installer.\n",
    "##To SET PATH VARIABLE \n",
    "#My Computer > Properties > Advanced System Settings > Environmental Variables > Edit\n",
    "#Add python's path separated by semicolons"
   ]
  },
  {
   "cell_type": "code",
   "execution_count": null,
   "id": "cb4a23df-6413-4e49-837d-2549feacb6d8",
   "metadata": {},
   "outputs": [],
   "source": [
    "#16. Is indentation required in Python?"
   ]
  },
  {
   "cell_type": "code",
   "execution_count": null,
   "id": "9a6fe82b-64d1-48ae-9b94-cbb31913da0a",
   "metadata": {},
   "outputs": [],
   "source": [
    "#Yes!"
   ]
  },
  {
   "cell_type": "code",
   "execution_count": null,
   "id": "f3529721-247c-4812-806f-8fc94470e609",
   "metadata": {},
   "outputs": [],
   "source": []
  }
 ],
 "metadata": {
  "kernelspec": {
   "display_name": "Python 3 (ipykernel)",
   "language": "python",
   "name": "python3"
  },
  "language_info": {
   "codemirror_mode": {
    "name": "ipython",
    "version": 3
   },
   "file_extension": ".py",
   "mimetype": "text/x-python",
   "name": "python",
   "nbconvert_exporter": "python",
   "pygments_lexer": "ipython3",
   "version": "3.10.8"
  }
 },
 "nbformat": 4,
 "nbformat_minor": 5
}
